{
 "cells": [
  {
   "cell_type": "code",
   "execution_count": 1,
   "metadata": {},
   "outputs": [],
   "source": [
    "import torch\n",
    "import torch.nn.functional as F"
   ]
  },
  {
   "cell_type": "markdown",
   "metadata": {},
   "source": [
    "##  `scatter` and `gather`"
   ]
  },
  {
   "cell_type": "markdown",
   "metadata": {},
   "source": [
    "[`scatter_()`](https://pytorch.org/docs/stable/generated/torch.Tensor.scatter_.html#torch.Tensor.scatter_):\n",
    "Writes all values from the tensor `src` into `self` at the indices specified in the `index` tensor. \n",
    "\n",
    "For a 2-D tensor\n",
    "```\n",
    "self[index[i][j]][j] = src[i][j]  # if dim == 0\n",
    "self[i][index[i][j]] = src[i][j]  # if dim == 1\n",
    "```\n"
   ]
  },
  {
   "cell_type": "code",
   "execution_count": 2,
   "metadata": {},
   "outputs": [
    {
     "data": {
      "text/plain": [
       "tensor([[ 1,  2,  3,  4,  5],\n",
       "        [ 6,  7,  8,  9, 10]])"
      ]
     },
     "execution_count": 2,
     "metadata": {},
     "output_type": "execute_result"
    }
   ],
   "source": [
    "src = torch.arange(1, 11).reshape((2, 5))\n",
    "src"
   ]
  },
  {
   "cell_type": "code",
   "execution_count": 3,
   "metadata": {},
   "outputs": [],
   "source": [
    "index = torch.tensor([[0, 1, 2, 0]])"
   ]
  },
  {
   "cell_type": "code",
   "execution_count": 4,
   "metadata": {},
   "outputs": [
    {
     "data": {
      "text/plain": [
       "tensor([[1, 0, 0, 4, 0],\n",
       "        [0, 2, 0, 0, 0],\n",
       "        [0, 0, 3, 0, 0]])"
      ]
     },
     "execution_count": 4,
     "metadata": {},
     "output_type": "execute_result"
    }
   ],
   "source": [
    "torch.zeros(3, 5, dtype=src.dtype).scatter_(0, index, src)"
   ]
  },
  {
   "cell_type": "markdown",
   "metadata": {},
   "source": [
    "- `src[0][0]` (`index[0][0]` = 0) --> `self[index[0][0]][0]` == `self[0][0]` = 1\n",
    "- `src[0][1]` (`index[0][1]` = 1) --> `self[index[0][1]][1]` == `self[1][1]` = 2\n",
    "- `src[0][2]` (`index[0][2]` = 2) --> `self[index[0][2]][2]` == `self[2][2]` = 3\n",
    "- `src[0][3]` (`index[0][3]` = 0) --> `self[index[0][3]][3]` == `self[0][3]` = 4"
   ]
  },
  {
   "cell_type": "code",
   "execution_count": 5,
   "metadata": {},
   "outputs": [
    {
     "data": {
      "text/plain": [
       "tensor([[4, 2, 3, 0, 0],\n",
       "        [0, 0, 0, 0, 0],\n",
       "        [0, 0, 0, 0, 0]])"
      ]
     },
     "execution_count": 5,
     "metadata": {},
     "output_type": "execute_result"
    }
   ],
   "source": [
    "torch.zeros(3, 5, dtype=src.dtype).scatter_(1, index, src)"
   ]
  },
  {
   "cell_type": "markdown",
   "metadata": {},
   "source": [
    "- `src[0][0]` (`index[0][0]` = 0) --> `self[0][index[0][0]]` == `self[0][0]` = 1\n",
    "- `src[0][1]` (`index[0][1]` = 1) --> `self[0][index[0][1]]` == `self[0][1]` = 2\n",
    "- `src[0][2]` (`index[0][2]` = 2) --> `self[0][index[0][2]]` == `self[0][2]` = 3\n",
    "- `src[0][3]` (`index[0][3]` = 0) --> `self[0][index[0][3]]` == `self[0][0]` = 4 (**overlapped** with first row)"
   ]
  },
  {
   "cell_type": "code",
   "execution_count": 6,
   "metadata": {},
   "outputs": [
    {
     "data": {
      "text/plain": [
       "tensor([[2.0000, 2.0000, 2.4600, 2.0000],\n",
       "        [2.0000, 2.0000, 2.0000, 2.4600]])"
      ]
     },
     "execution_count": 6,
     "metadata": {},
     "output_type": "execute_result"
    }
   ],
   "source": [
    "torch.full((2, 4), 2.).scatter_(\n",
    "    1, torch.tensor([[2], [3]]),\n",
    "    1.23, reduce='multiply')"
   ]
  },
  {
   "cell_type": "markdown",
   "metadata": {},
   "source": [
    "- `src[0][0]` (`index[0][0]` = 2) --> `self[0][index[0][0]]` == `self[0][2]` * 1.23 = 2.46 \n",
    "- `src[1][0]` (`index[1][0]` = 3) --> `self[1][index[1][0]]` == `self[1][3]` * 1.23 = 2.46\n",
    "\n",
    "\n",
    "Similary for `reduce='add'`."
   ]
  },
  {
   "cell_type": "markdown",
   "metadata": {},
   "source": [
    "One Hot Encoding using `scatter_()`"
   ]
  },
  {
   "cell_type": "code",
   "execution_count": 7,
   "metadata": {},
   "outputs": [],
   "source": [
    "x = torch.tensor([1, 2, 4, 2, 1, 0, 3])\n",
    "num_classes = 5\n",
    "\n",
    "reshaped_x = x.view(-1, 1)\n",
    "one_hot = torch.full((x.shape[0], num_classes), 0).scatter_(\n",
    "    1, # dimension\n",
    "    reshaped_x, # index from reshaped x\n",
    "    1, # value to fill for one-hot encoding\n",
    ")"
   ]
  },
  {
   "cell_type": "code",
   "execution_count": 8,
   "metadata": {},
   "outputs": [
    {
     "data": {
      "text/plain": [
       "(tensor([[1],\n",
       "         [2],\n",
       "         [4],\n",
       "         [2],\n",
       "         [1],\n",
       "         [0],\n",
       "         [3]]),\n",
       " tensor([[0, 1, 0, 0, 0],\n",
       "         [0, 0, 1, 0, 0],\n",
       "         [0, 0, 0, 0, 1],\n",
       "         [0, 0, 1, 0, 0],\n",
       "         [0, 1, 0, 0, 0],\n",
       "         [1, 0, 0, 0, 0],\n",
       "         [0, 0, 0, 1, 0]]))"
      ]
     },
     "execution_count": 8,
     "metadata": {},
     "output_type": "execute_result"
    }
   ],
   "source": [
    "reshaped_x, one_hot"
   ]
  },
  {
   "cell_type": "markdown",
   "metadata": {},
   "source": [
    "[`gather()`](https://pytorch.org/docs/stable/generated/torch.gather.html#torch.gather): Gathers values along an axis specified by `dim`.\n",
    "\n",
    "\n",
    "For a 2-D tensor the output is specified by:\n",
    "\n",
    "```\n",
    "out[i][j] = input[index[i][j]][j]  # if dim == 0\n",
    "out[i][j] = input[i][index[i][j]]  # if dim == 1\n",
    "```"
   ]
  },
  {
   "cell_type": "code",
   "execution_count": 9,
   "metadata": {},
   "outputs": [
    {
     "data": {
      "text/plain": [
       "tensor([[1, 1],\n",
       "        [4, 3]])"
      ]
     },
     "execution_count": 9,
     "metadata": {},
     "output_type": "execute_result"
    }
   ],
   "source": [
    "t = torch.tensor([[1, 2, 5], [3, 4, 7]])\n",
    "torch.gather(t, 1, torch.tensor([[0, 0], [1, 0]]))"
   ]
  },
  {
   "cell_type": "markdown",
   "metadata": {},
   "source": [
    "- `output[0][0]` (`index[0][0]` = 0) = `input[0][index[0][0]]` == `input[0][0]` = 1\n",
    "- `output[0][1]` (`index[0][1]` = 0) = `input[0][index[0][1]]` == `input[0][0]` = 1\n",
    "- `output[1][0]` (`index[1][0]` = 1) = `input[1][index[1][0]]` == `input[1][1]` = 4\n",
    "- `output[1][1]` (`index[1][1]` = 0) = `input[1][index[1][1]]` == `input[1][0]` = 3"
   ]
  },
  {
   "cell_type": "markdown",
   "metadata": {},
   "source": [
    "Calculate NLL (negative log likelihood) loss with `gather()` \n",
    "\n",
    "$$ H(p, q) = -\\sum_{K}\\log(p(x))q(x) $$\n",
    "\n",
    "where $p(x)$ is prediction and $q(x)$ is ground truth."
   ]
  },
  {
   "cell_type": "code",
   "execution_count": 10,
   "metadata": {},
   "outputs": [],
   "source": [
    "pred = torch.tensor([\n",
    "    [0.6, 0.5, 0.8, 0.3, 0.1],\n",
    "    [0.1, 0.9, 0.4, 0.2, 0.2],\n",
    "    [0.1, 0.3, 0.4, 0.2, 0.9],  \n",
    "]) # raw predictions of each sample (across all 5 classes)\n",
    "target_gt = torch.tensor([2, 1, 4]) # targets with class id"
   ]
  },
  {
   "cell_type": "code",
   "execution_count": 11,
   "metadata": {},
   "outputs": [
    {
     "data": {
      "text/plain": [
       "tensor([[-1.4982, -1.5982, -1.2982, -1.7982, -1.9982],\n",
       "        [-1.9148, -1.1148, -1.6148, -1.8148, -1.8148],\n",
       "        [-1.9318, -1.7318, -1.6318, -1.8318, -1.1318]])"
      ]
     },
     "execution_count": 11,
     "metadata": {},
     "output_type": "execute_result"
    }
   ],
   "source": [
    "# log softmax probabilities\n",
    "logprob = F.log_softmax(pred, dim=-1)\n",
    "logprob"
   ]
  },
  {
   "cell_type": "code",
   "execution_count": 12,
   "metadata": {},
   "outputs": [
    {
     "data": {
      "text/plain": [
       "tensor([[1.2982],\n",
       "        [1.1148],\n",
       "        [1.1318]])"
      ]
     },
     "execution_count": 12,
     "metadata": {},
     "output_type": "execute_result"
    }
   ],
   "source": [
    "- logprob.gather(\n",
    "    dim=1, # only gather data at axis=1 (since axis=0 refers to different data sample in the batch)\n",
    "    index=target_gt.unsqueeze(1), # gather value based on ground truth (only select index of true label) \n",
    ")"
   ]
  }
 ],
 "metadata": {
  "interpreter": {
   "hash": "02cdac520ec7133de76ba57889f241b5b57a036339fda5892f85ea2dfaba9805"
  },
  "kernelspec": {
   "display_name": "Python 3.8.12 64-bit ('pytorch_workspace': conda)",
   "language": "python",
   "name": "python3"
  },
  "language_info": {
   "codemirror_mode": {
    "name": "ipython",
    "version": 3
   },
   "file_extension": ".py",
   "mimetype": "text/x-python",
   "name": "python",
   "nbconvert_exporter": "python",
   "pygments_lexer": "ipython3",
   "version": "3.8.12"
  },
  "orig_nbformat": 4
 },
 "nbformat": 4,
 "nbformat_minor": 2
}
